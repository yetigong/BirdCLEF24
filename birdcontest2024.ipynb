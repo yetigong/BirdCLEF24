{
 "cells": [
  {
   "cell_type": "code",
   "execution_count": 1,
   "id": "3fd9ded1",
   "metadata": {
    "_cell_guid": "b1076dfc-b9ad-4769-8c92-a6c4dae69d19",
    "_uuid": "8f2839f25d086af736a60e9eeb907d3b93b6e0e5",
    "execution": {
     "iopub.execute_input": "2024-04-05T19:34:45.111802Z",
     "iopub.status.busy": "2024-04-05T19:34:45.110960Z",
     "iopub.status.idle": "2024-04-05T19:34:46.103278Z",
     "shell.execute_reply": "2024-04-05T19:34:46.102121Z"
    },
    "papermill": {
     "duration": 1.000382,
     "end_time": "2024-04-05T19:34:46.106383",
     "exception": false,
     "start_time": "2024-04-05T19:34:45.106001",
     "status": "completed"
    },
    "tags": []
   },
   "outputs": [
    {
     "name": "stdout",
     "output_type": "stream",
     "text": [
      "['redspu1', 'zitcis1', 'marsan', 'rewlap1', 'grenig1', 'insbab1', 'commyn', 'labcro1', 'yebbul3', 'whtkin2', 'brasta1', 'brnhao1', 'bkcbul1', 'grywag', 'graher1', 'brodro1', 'purher1', 'bkskit1', 'eurbla2', 'grtdro1', 'comtai1', 'paisto1', 'brcful1', 'grehor1', 'whcbar1', 'blakit1', 'integr', 'gryfra', 'grnsan', 'whbsho3', 'sqtbul1', 'greegr', 'wemhar1', 'comsan', 'rewbul', 'cohcuc1', 'heswoo1', 'gybpri1', 'gargan', 'darter2', 'rerswa1', 'grnwar1', 'isbduc1', 'brwjac1', 'mawthr1', 'eaywag1', 'pursun3', 'lblwar1', 'kerlau2', 'junmyn1', 'rutfly6', 'oripip1', 'houspa', 'lobsun2', 'wynlau1', 'eucdov', 'compea', 'spodov', 'nutman', 'revbul', 'aspswi1', 'blaeag1', 'whiter2', 'litspi1', 'litswi1', 'rufwoo2', 'rossta2', 'barfly1', 'ruftre2', 'inpher1', 'maghor2', 'litgre1', 'grynig2', 'lirplo', 'rorpar', 'gloibi', 'comkin1', 'orihob2', 'sohmyn1', 'yebbab1', 'plapri1', 'stbkin1', 'blhori1', 'comros', 'ashdro1', 'dafbab1', 'ingori1', 'rocpig', 'jerbus2', 'inbrob1', 'houcro1', 'asbfly', 'whbwat1', 'vefnut1', 'emedov2', 'asikoe2', 'bcnher', 'woosan', 'gyhcaf1', 'tilwar1', 'scamin3', 'blrwar1', 'blnmon1', 'indrob1', 'sbeowl1', 'hoopoe', 'lesyel1', 'pabflo1', 'comgre', 'kenplo1', 'brfowl1', 'insowl1', 'whbtre1', 'pomgrp2', 'nilfly2', 'malwoo1', 'crseag1', 'spepic1', 'eurcoo', 'copbar1', 'crfbar1', 'thbwar1', 'plhpar1', 'grewar3', 'aspfly1', 'plaflo1', 'indtit1', 'forwag1', 'junbab2', 'commoo3', 'crbsun2', 'comior1', 'whbbul2', 'piebus1', 'grejun2', 'brnshr', 'lewduc1', 'whrmun', 'spoowl1', 'bladro1', 'ashpri1', 'sttwoo1', 'chbeat1', 'grefla1', 'grbeat1', 'tibfly3', 'junowl1', 'brakit1', 'ashwoo2', 'whbwag1', 'whbwoo2', 'niwpig1', 'maltro1', 'bwfshr1', 'asiope1', 'bncwoo3', 'goflea1', 'vehpar1', 'malpar1', 'rufbab3', 'placuc3', 'indrol2', 'purswa3', 'pursun4', 'cregos1', 'bkrfla1', 'grecou1', 'piekin1', 'brwowl1', 'btbeat1', 'laudov1', 'wbbfly1', 'putbab1', 'moipig1', 'shikra1', 'comfla1', 'barswa', 'categr', 'smamin1', 'indpit1', 'bkwsti', 'litegr']\n",
      "182\n"
     ]
    }
   ],
   "source": [
    "# This Python 3 environment comes with many helpful analytics libraries installed\n",
    "# It is defined by the kaggle/python Docker image: https://github.com/kaggle/docker-python\n",
    "# For example, here's several helpful packages to load\n",
    "\n",
    "import numpy as np # linear algebra\n",
    "import pandas as pd # data processing, CSV file I/O (e.g. pd.read_csv)\n",
    "\n",
    "# Input data files are available in the read-only \"../input/\" directory\n",
    "# For example, running this (by clicking run or pressing Shift+Enter) will list all files under the input directory\n",
    "\n",
    "import os\n",
    "# for entry in os.listdir('/kaggle/input/birdclef-2024/train_audio'):\n",
    "print(os.listdir('/kaggle/input/birdclef-2024/train_audio'))\n",
    "print(len(os.listdir('/kaggle/input/birdclef-2024/train_audio')))\n",
    "\n",
    "train_species = os.listdir('/kaggle/input/birdclef-2024/train_audio')\n",
    "\n",
    "# You can write up to 20GB to the current directory (/kaggle/working/) that gets preserved as output when you create a version using \"Save & Run All\" \n",
    "# You can also write temporary files to /kaggle/temp/, but they won't be saved outside of the current session\n"
   ]
  },
  {
   "cell_type": "markdown",
   "id": "a104bfe9",
   "metadata": {
    "papermill": {
     "duration": 0.003078,
     "end_time": "2024-04-05T19:34:46.113713",
     "exception": false,
     "start_time": "2024-04-05T19:34:46.110635",
     "status": "completed"
    },
    "tags": []
   },
   "source": [
    "Notes about intial data investigation\n",
    "1. for taxonomy, species_group is going to be not always populated. the dataset seems to only populate the same entry for the group. Need to backfill all species group. Reported as are all NaN for the 182 species we concern. So probably don't need to handle it now.\n",
    "2. "
   ]
  },
  {
   "cell_type": "code",
   "execution_count": 2,
   "id": "7f18e277",
   "metadata": {
    "execution": {
     "iopub.execute_input": "2024-04-05T19:34:46.122962Z",
     "iopub.status.busy": "2024-04-05T19:34:46.122058Z",
     "iopub.status.idle": "2024-04-05T19:34:46.242518Z",
     "shell.execute_reply": "2024-04-05T19:34:46.239751Z"
    },
    "papermill": {
     "duration": 0.128146,
     "end_time": "2024-04-05T19:34:46.245177",
     "exception": false,
     "start_time": "2024-04-05T19:34:46.117031",
     "status": "completed"
    },
    "tags": []
   },
   "outputs": [
    {
     "data": {
      "text/html": [
       "<div>\n",
       "<style scoped>\n",
       "    .dataframe tbody tr th:only-of-type {\n",
       "        vertical-align: middle;\n",
       "    }\n",
       "\n",
       "    .dataframe tbody tr th {\n",
       "        vertical-align: top;\n",
       "    }\n",
       "\n",
       "    .dataframe thead th {\n",
       "        text-align: right;\n",
       "    }\n",
       "</style>\n",
       "<table border=\"1\" class=\"dataframe\">\n",
       "  <thead>\n",
       "    <tr style=\"text-align: right;\">\n",
       "      <th></th>\n",
       "      <th>TAXON_ORDER</th>\n",
       "      <th>CATEGORY</th>\n",
       "      <th>SPECIES_CODE</th>\n",
       "      <th>PRIMARY_COM_NAME</th>\n",
       "      <th>SCI_NAME</th>\n",
       "      <th>ORDER1</th>\n",
       "      <th>FAMILY</th>\n",
       "      <th>SPECIES_GROUP</th>\n",
       "      <th>REPORT_AS</th>\n",
       "    </tr>\n",
       "  </thead>\n",
       "  <tbody>\n",
       "    <tr>\n",
       "      <th>0</th>\n",
       "      <td>1</td>\n",
       "      <td>species</td>\n",
       "      <td>ostric2</td>\n",
       "      <td>Common Ostrich</td>\n",
       "      <td>Struthio camelus</td>\n",
       "      <td>Struthioniformes</td>\n",
       "      <td>Struthionidae (Ostriches)</td>\n",
       "      <td>Ostriches</td>\n",
       "      <td>NaN</td>\n",
       "    </tr>\n",
       "    <tr>\n",
       "      <th>1</th>\n",
       "      <td>6</td>\n",
       "      <td>species</td>\n",
       "      <td>ostric3</td>\n",
       "      <td>Somali Ostrich</td>\n",
       "      <td>Struthio molybdophanes</td>\n",
       "      <td>Struthioniformes</td>\n",
       "      <td>Struthionidae (Ostriches)</td>\n",
       "      <td>NaN</td>\n",
       "      <td>NaN</td>\n",
       "    </tr>\n",
       "    <tr>\n",
       "      <th>2</th>\n",
       "      <td>7</td>\n",
       "      <td>slash</td>\n",
       "      <td>y00934</td>\n",
       "      <td>Common/Somali Ostrich</td>\n",
       "      <td>Struthio camelus/molybdophanes</td>\n",
       "      <td>Struthioniformes</td>\n",
       "      <td>Struthionidae (Ostriches)</td>\n",
       "      <td>NaN</td>\n",
       "      <td>NaN</td>\n",
       "    </tr>\n",
       "    <tr>\n",
       "      <th>3</th>\n",
       "      <td>8</td>\n",
       "      <td>species</td>\n",
       "      <td>grerhe1</td>\n",
       "      <td>Greater Rhea</td>\n",
       "      <td>Rhea americana</td>\n",
       "      <td>Rheiformes</td>\n",
       "      <td>Rheidae (Rheas)</td>\n",
       "      <td>Rheas</td>\n",
       "      <td>NaN</td>\n",
       "    </tr>\n",
       "    <tr>\n",
       "      <th>4</th>\n",
       "      <td>14</td>\n",
       "      <td>species</td>\n",
       "      <td>lesrhe2</td>\n",
       "      <td>Lesser Rhea</td>\n",
       "      <td>Rhea pennata</td>\n",
       "      <td>Rheiformes</td>\n",
       "      <td>Rheidae (Rheas)</td>\n",
       "      <td>NaN</td>\n",
       "      <td>NaN</td>\n",
       "    </tr>\n",
       "  </tbody>\n",
       "</table>\n",
       "</div>"
      ],
      "text/plain": [
       "   TAXON_ORDER CATEGORY SPECIES_CODE       PRIMARY_COM_NAME  \\\n",
       "0            1  species      ostric2         Common Ostrich   \n",
       "1            6  species      ostric3         Somali Ostrich   \n",
       "2            7    slash       y00934  Common/Somali Ostrich   \n",
       "3            8  species      grerhe1           Greater Rhea   \n",
       "4           14  species      lesrhe2            Lesser Rhea   \n",
       "\n",
       "                         SCI_NAME            ORDER1  \\\n",
       "0                Struthio camelus  Struthioniformes   \n",
       "1          Struthio molybdophanes  Struthioniformes   \n",
       "2  Struthio camelus/molybdophanes  Struthioniformes   \n",
       "3                  Rhea americana        Rheiformes   \n",
       "4                    Rhea pennata        Rheiformes   \n",
       "\n",
       "                      FAMILY SPECIES_GROUP REPORT_AS  \n",
       "0  Struthionidae (Ostriches)     Ostriches       NaN  \n",
       "1  Struthionidae (Ostriches)           NaN       NaN  \n",
       "2  Struthionidae (Ostriches)           NaN       NaN  \n",
       "3            Rheidae (Rheas)         Rheas       NaN  \n",
       "4            Rheidae (Rheas)           NaN       NaN  "
      ]
     },
     "execution_count": 2,
     "metadata": {},
     "output_type": "execute_result"
    }
   ],
   "source": [
    "taxonomy = pd.read_csv('/kaggle/input/birdclef-2024/eBird_Taxonomy_v2021.csv')\n",
    "taxonomy.head()\n"
   ]
  },
  {
   "cell_type": "code",
   "execution_count": 3,
   "id": "f6465fed",
   "metadata": {
    "execution": {
     "iopub.execute_input": "2024-04-05T19:34:46.252429Z",
     "iopub.status.busy": "2024-04-05T19:34:46.251980Z",
     "iopub.status.idle": "2024-04-05T19:34:46.282495Z",
     "shell.execute_reply": "2024-04-05T19:34:46.281322Z"
    },
    "papermill": {
     "duration": 0.036714,
     "end_time": "2024-04-05T19:34:46.284704",
     "exception": false,
     "start_time": "2024-04-05T19:34:46.247990",
     "status": "completed"
    },
    "tags": []
   },
   "outputs": [
    {
     "data": {
      "text/html": [
       "<div>\n",
       "<style scoped>\n",
       "    .dataframe tbody tr th:only-of-type {\n",
       "        vertical-align: middle;\n",
       "    }\n",
       "\n",
       "    .dataframe tbody tr th {\n",
       "        vertical-align: top;\n",
       "    }\n",
       "\n",
       "    .dataframe thead th {\n",
       "        text-align: right;\n",
       "    }\n",
       "</style>\n",
       "<table border=\"1\" class=\"dataframe\">\n",
       "  <thead>\n",
       "    <tr style=\"text-align: right;\">\n",
       "      <th></th>\n",
       "      <th>TAXON_ORDER</th>\n",
       "      <th>CATEGORY</th>\n",
       "      <th>SPECIES_CODE</th>\n",
       "      <th>PRIMARY_COM_NAME</th>\n",
       "      <th>SCI_NAME</th>\n",
       "      <th>ORDER1</th>\n",
       "      <th>FAMILY</th>\n",
       "      <th>SPECIES_GROUP</th>\n",
       "      <th>REPORT_AS</th>\n",
       "    </tr>\n",
       "  </thead>\n",
       "  <tbody>\n",
       "    <tr>\n",
       "      <th>5</th>\n",
       "      <td>15</td>\n",
       "      <td>issf</td>\n",
       "      <td>lesrhe4</td>\n",
       "      <td>Lesser Rhea (Puna)</td>\n",
       "      <td>Rhea pennata tarapacensis/garleppi</td>\n",
       "      <td>Rheiformes</td>\n",
       "      <td>Rheidae (Rheas)</td>\n",
       "      <td>NaN</td>\n",
       "      <td>lesrhe2</td>\n",
       "    </tr>\n",
       "    <tr>\n",
       "      <th>6</th>\n",
       "      <td>18</td>\n",
       "      <td>issf</td>\n",
       "      <td>lesrhe3</td>\n",
       "      <td>Lesser Rhea (Darwin's)</td>\n",
       "      <td>Rhea pennata pennata</td>\n",
       "      <td>Rheiformes</td>\n",
       "      <td>Rheidae (Rheas)</td>\n",
       "      <td>NaN</td>\n",
       "      <td>lesrhe2</td>\n",
       "    </tr>\n",
       "    <tr>\n",
       "      <th>9</th>\n",
       "      <td>21</td>\n",
       "      <td>issf</td>\n",
       "      <td>higtin2</td>\n",
       "      <td>Highland Tinamou (South American)</td>\n",
       "      <td>Nothocercus bonapartei [bonapartei Group]</td>\n",
       "      <td>Tinamiformes</td>\n",
       "      <td>Tinamidae (Tinamous)</td>\n",
       "      <td>NaN</td>\n",
       "      <td>higtin1</td>\n",
       "    </tr>\n",
       "    <tr>\n",
       "      <th>10</th>\n",
       "      <td>26</td>\n",
       "      <td>issf</td>\n",
       "      <td>higtin3</td>\n",
       "      <td>Highland Tinamou (Costa Rican)</td>\n",
       "      <td>Nothocercus bonapartei frantzii</td>\n",
       "      <td>Tinamiformes</td>\n",
       "      <td>Tinamidae (Tinamous)</td>\n",
       "      <td>NaN</td>\n",
       "      <td>higtin1</td>\n",
       "    </tr>\n",
       "    <tr>\n",
       "      <th>23</th>\n",
       "      <td>73</td>\n",
       "      <td>issf</td>\n",
       "      <td>brntin1</td>\n",
       "      <td>Brown Tinamou (castaneus)</td>\n",
       "      <td>Crypturellus obsoletus castaneus</td>\n",
       "      <td>Tinamiformes</td>\n",
       "      <td>Tinamidae (Tinamous)</td>\n",
       "      <td>NaN</td>\n",
       "      <td>brotin1</td>\n",
       "    </tr>\n",
       "  </tbody>\n",
       "</table>\n",
       "</div>"
      ],
      "text/plain": [
       "    TAXON_ORDER CATEGORY SPECIES_CODE                   PRIMARY_COM_NAME  \\\n",
       "5            15     issf      lesrhe4                 Lesser Rhea (Puna)   \n",
       "6            18     issf      lesrhe3             Lesser Rhea (Darwin's)   \n",
       "9            21     issf      higtin2  Highland Tinamou (South American)   \n",
       "10           26     issf      higtin3     Highland Tinamou (Costa Rican)   \n",
       "23           73     issf      brntin1          Brown Tinamou (castaneus)   \n",
       "\n",
       "                                     SCI_NAME        ORDER1  \\\n",
       "5          Rhea pennata tarapacensis/garleppi    Rheiformes   \n",
       "6                        Rhea pennata pennata    Rheiformes   \n",
       "9   Nothocercus bonapartei [bonapartei Group]  Tinamiformes   \n",
       "10            Nothocercus bonapartei frantzii  Tinamiformes   \n",
       "23           Crypturellus obsoletus castaneus  Tinamiformes   \n",
       "\n",
       "                  FAMILY SPECIES_GROUP REPORT_AS  \n",
       "5        Rheidae (Rheas)           NaN   lesrhe2  \n",
       "6        Rheidae (Rheas)           NaN   lesrhe2  \n",
       "9   Tinamidae (Tinamous)           NaN   higtin1  \n",
       "10  Tinamidae (Tinamous)           NaN   higtin1  \n",
       "23  Tinamidae (Tinamous)           NaN   brotin1  "
      ]
     },
     "execution_count": 3,
     "metadata": {},
     "output_type": "execute_result"
    }
   ],
   "source": [
    "train_taxonomy = taxonomy[taxonomy['SPECIES_CODE'].isin(train_species)]\n",
    "species_group = taxonomy[taxonomy['REPORT_AS'].notna()]\n",
    "species_group.head()"
   ]
  },
  {
   "cell_type": "code",
   "execution_count": null,
   "id": "253821ca",
   "metadata": {
    "papermill": {
     "duration": 0.002809,
     "end_time": "2024-04-05T19:34:46.290685",
     "exception": false,
     "start_time": "2024-04-05T19:34:46.287876",
     "status": "completed"
    },
    "tags": []
   },
   "outputs": [],
   "source": [
    "\n"
   ]
  }
 ],
 "metadata": {
  "kaggle": {
   "accelerator": "none",
   "dataSources": [
    {
     "databundleVersionId": 8068726,
     "sourceId": 70203,
     "sourceType": "competition"
    }
   ],
   "dockerImageVersionId": 30673,
   "isGpuEnabled": false,
   "isInternetEnabled": true,
   "language": "python",
   "sourceType": "notebook"
  },
  "kernelspec": {
   "display_name": "Python 3",
   "language": "python",
   "name": "python3"
  },
  "language_info": {
   "codemirror_mode": {
    "name": "ipython",
    "version": 3
   },
   "file_extension": ".py",
   "mimetype": "text/x-python",
   "name": "python",
   "nbconvert_exporter": "python",
   "pygments_lexer": "ipython3",
   "version": "3.10.13"
  },
  "papermill": {
   "default_parameters": {},
   "duration": 4.902193,
   "end_time": "2024-04-05T19:34:47.017994",
   "environment_variables": {},
   "exception": null,
   "input_path": "__notebook__.ipynb",
   "output_path": "__notebook__.ipynb",
   "parameters": {},
   "start_time": "2024-04-05T19:34:42.115801",
   "version": "2.5.0"
  }
 },
 "nbformat": 4,
 "nbformat_minor": 5
}
